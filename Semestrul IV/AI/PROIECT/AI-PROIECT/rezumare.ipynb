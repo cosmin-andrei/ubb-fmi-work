{
 "cells": [
  {
   "metadata": {},
   "cell_type": "markdown",
   "source": [
    "Rezumate pentru texte\n",
    "\n",
    "* Definirea problemei:\n",
    "- input = text pentru rezumare (string) - 2 featureuri: category, contect (text pt rezumare)\n",
    "- output = rezumat pentru textul dat input (string)\n",
    "- invatare supervizata: problema de regresie (seq2seq)\n",
    "\n",
    "* Analiza datelor de intrare:\n",
    "- categoria: guvern\n",
    "- 2 feature-uri: category, content\n",
    "- tip date: textuale\n",
    "- "
   ],
   "id": "fa7b743f819479a4"
  },
  {
   "metadata": {},
   "cell_type": "markdown",
   "source": "Incarcarea datelor de intrare",
   "id": "b4278f7a8028ebef"
  },
  {
   "metadata": {
    "ExecuteTime": {
     "end_time": "2024-05-09T18:48:58.673627Z",
     "start_time": "2024-05-09T18:47:58.489453Z"
    }
   },
   "cell_type": "code",
   "source": [
    "from datasets import load_dataset\n",
    "\n",
    "dataset = load_dataset(\"readerbench/ro-text-summarization\")\n",
    "print(dataset)"
   ],
   "id": "d87eabc5f258b0dc",
   "outputs": [
    {
     "data": {
      "text/plain": [
       "Downloading data:   0%|          | 0.00/165M [00:00<?, ?B/s]"
      ],
      "application/vnd.jupyter.widget-view+json": {
       "version_major": 2,
       "version_minor": 0,
       "model_id": "8cfc26dd7bc64b32a314b8e7da4cea6e"
      }
     },
     "metadata": {},
     "output_type": "display_data"
    },
    {
     "data": {
      "text/plain": [
       "Downloading data:   0%|          | 0.00/18.3M [00:00<?, ?B/s]"
      ],
      "application/vnd.jupyter.widget-view+json": {
       "version_major": 2,
       "version_minor": 0,
       "model_id": "6d22afcdbaec4c9b912c74dfb7125ee7"
      }
     },
     "metadata": {},
     "output_type": "display_data"
    },
    {
     "data": {
      "text/plain": [
       "Generating train split:   0%|          | 0/65268 [00:00<?, ? examples/s]"
      ],
      "application/vnd.jupyter.widget-view+json": {
       "version_major": 2,
       "version_minor": 0,
       "model_id": "ef64d68d70244f299ec3fe039daa7c74"
      }
     },
     "metadata": {},
     "output_type": "display_data"
    },
    {
     "data": {
      "text/plain": [
       "Generating test split:   0%|          | 0/7253 [00:00<?, ? examples/s]"
      ],
      "application/vnd.jupyter.widget-view+json": {
       "version_major": 2,
       "version_minor": 0,
       "model_id": "439972707b354623bf5cc961016d668f"
      }
     },
     "metadata": {},
     "output_type": "display_data"
    },
    {
     "name": "stdout",
     "output_type": "stream",
     "text": [
      "DatasetDict({\n",
      "    train: Dataset({\n",
      "        features: ['Category', 'Title', 'Content', 'Summary', 'href', 'Source'],\n",
      "        num_rows: 65268\n",
      "    })\n",
      "    test: Dataset({\n",
      "        features: ['Category', 'Title', 'Content', 'Summary', 'href', 'Source'],\n",
      "        num_rows: 7253\n",
      "    })\n",
      "})\n"
     ]
    }
   ],
   "execution_count": 1
  },
  {
   "metadata": {},
   "cell_type": "markdown",
   "source": "Nr. date in baza de date",
   "id": "a06f98067f373735"
  },
  {
   "metadata": {
    "ExecuteTime": {
     "end_time": "2024-05-09T18:57:54.382329Z",
     "start_time": "2024-05-09T18:57:54.378825Z"
    }
   },
   "cell_type": "code",
   "source": "print(len(dataset['train']))",
   "id": "29d7333bbdede595",
   "outputs": [
    {
     "name": "stdout",
     "output_type": "stream",
     "text": [
      "65268\n"
     ]
    }
   ],
   "execution_count": 6
  },
  {
   "metadata": {},
   "cell_type": "markdown",
   "source": "Extragerea datelor de interes (category: guvern)",
   "id": "75be53f3d565e34d"
  },
  {
   "metadata": {
    "ExecuteTime": {
     "end_time": "2024-05-09T18:55:48.937741Z",
     "start_time": "2024-05-09T18:55:47.952529Z"
    }
   },
   "cell_type": "code",
   "source": [
    "data = dataset['train'].filter(lambda example: example['Category'] == 'guvern')\n",
    "print(data) #25259"
   ],
   "id": "f7f9b642a7c6136a",
   "outputs": [
    {
     "data": {
      "text/plain": [
       "Filter:   0%|          | 0/65268 [00:00<?, ? examples/s]"
      ],
      "application/vnd.jupyter.widget-view+json": {
       "version_major": 2,
       "version_minor": 0,
       "model_id": "c93e329347c64036854a5fee9b1dbb4e"
      }
     },
     "metadata": {},
     "output_type": "display_data"
    },
    {
     "name": "stdout",
     "output_type": "stream",
     "text": [
      "Dataset({\n",
      "    features: ['Category', 'Title', 'Content', 'Summary', 'href', 'Source'],\n",
      "    num_rows: 25259\n",
      "})\n"
     ]
    }
   ],
   "execution_count": 4
  },
  {
   "metadata": {},
   "cell_type": "markdown",
   "source": "Nr date dupa filtrare",
   "id": "68187cb1c2238225"
  },
  {
   "metadata": {
    "ExecuteTime": {
     "end_time": "2024-05-09T18:58:21.295365Z",
     "start_time": "2024-05-09T18:58:21.292460Z"
    }
   },
   "cell_type": "code",
   "source": "print(len(data))",
   "id": "900e30b995061265",
   "outputs": [
    {
     "name": "stdout",
     "output_type": "stream",
     "text": [
      "25259\n"
     ]
    }
   ],
   "execution_count": 7
  },
  {
   "metadata": {},
   "cell_type": "markdown",
   "source": "Extragerea feature-urilor de interes (category, content)",
   "id": "9f7a8fba13b62dfd"
  },
  {
   "metadata": {
    "ExecuteTime": {
     "end_time": "2024-05-09T19:02:45.584406Z",
     "start_time": "2024-05-09T19:02:45.549626Z"
    }
   },
   "cell_type": "code",
   "source": [
    "data = data['train']['Category', 'Content']\n",
    "print(data)"
   ],
   "id": "e3a2577e304dc3c8",
   "outputs": [
    {
     "ename": "KeyError",
     "evalue": "\"Column train not in the dataset. Current columns in the dataset: ['Category', 'Title', 'Content', 'Summary', 'href', 'Source']\"",
     "output_type": "error",
     "traceback": [
      "\u001B[1;31m---------------------------------------------------------------------------\u001B[0m",
      "\u001B[1;31mKeyError\u001B[0m                                  Traceback (most recent call last)",
      "Cell \u001B[1;32mIn[10], line 1\u001B[0m\n\u001B[1;32m----> 1\u001B[0m data \u001B[38;5;241m=\u001B[39m \u001B[43mdata\u001B[49m\u001B[43m[\u001B[49m\u001B[38;5;124;43m'\u001B[39;49m\u001B[38;5;124;43mtrain\u001B[39;49m\u001B[38;5;124;43m'\u001B[39;49m\u001B[43m]\u001B[49m[\u001B[38;5;124m'\u001B[39m\u001B[38;5;124mCategory\u001B[39m\u001B[38;5;124m'\u001B[39m, \u001B[38;5;124m'\u001B[39m\u001B[38;5;124mContent\u001B[39m\u001B[38;5;124m'\u001B[39m]\n\u001B[0;32m      2\u001B[0m \u001B[38;5;28mprint\u001B[39m(data)\n",
      "File \u001B[1;32mD:\\Facultate\\ubb-fmi-work\\Semestrul IV\\AI\\PROIECT\\AI-PROIECT\\.venv\\Lib\\site-packages\\datasets\\arrow_dataset.py:2861\u001B[0m, in \u001B[0;36mDataset.__getitem__\u001B[1;34m(self, key)\u001B[0m\n\u001B[0;32m   2859\u001B[0m \u001B[38;5;28;01mdef\u001B[39;00m \u001B[38;5;21m__getitem__\u001B[39m(\u001B[38;5;28mself\u001B[39m, key):  \u001B[38;5;66;03m# noqa: F811\u001B[39;00m\n\u001B[0;32m   2860\u001B[0m \u001B[38;5;250m    \u001B[39m\u001B[38;5;124;03m\"\"\"Can be used to index columns (by string names) or rows (by integer index or iterable of indices or bools).\"\"\"\u001B[39;00m\n\u001B[1;32m-> 2861\u001B[0m     \u001B[38;5;28;01mreturn\u001B[39;00m \u001B[38;5;28;43mself\u001B[39;49m\u001B[38;5;241;43m.\u001B[39;49m\u001B[43m_getitem\u001B[49m\u001B[43m(\u001B[49m\u001B[43mkey\u001B[49m\u001B[43m)\u001B[49m\n",
      "File \u001B[1;32mD:\\Facultate\\ubb-fmi-work\\Semestrul IV\\AI\\PROIECT\\AI-PROIECT\\.venv\\Lib\\site-packages\\datasets\\arrow_dataset.py:2845\u001B[0m, in \u001B[0;36mDataset._getitem\u001B[1;34m(self, key, **kwargs)\u001B[0m\n\u001B[0;32m   2843\u001B[0m format_kwargs \u001B[38;5;241m=\u001B[39m format_kwargs \u001B[38;5;28;01mif\u001B[39;00m format_kwargs \u001B[38;5;129;01mis\u001B[39;00m \u001B[38;5;129;01mnot\u001B[39;00m \u001B[38;5;28;01mNone\u001B[39;00m \u001B[38;5;28;01melse\u001B[39;00m {}\n\u001B[0;32m   2844\u001B[0m formatter \u001B[38;5;241m=\u001B[39m get_formatter(format_type, features\u001B[38;5;241m=\u001B[39m\u001B[38;5;28mself\u001B[39m\u001B[38;5;241m.\u001B[39m_info\u001B[38;5;241m.\u001B[39mfeatures, \u001B[38;5;241m*\u001B[39m\u001B[38;5;241m*\u001B[39mformat_kwargs)\n\u001B[1;32m-> 2845\u001B[0m pa_subtable \u001B[38;5;241m=\u001B[39m \u001B[43mquery_table\u001B[49m\u001B[43m(\u001B[49m\u001B[38;5;28;43mself\u001B[39;49m\u001B[38;5;241;43m.\u001B[39;49m\u001B[43m_data\u001B[49m\u001B[43m,\u001B[49m\u001B[43m \u001B[49m\u001B[43mkey\u001B[49m\u001B[43m,\u001B[49m\u001B[43m \u001B[49m\u001B[43mindices\u001B[49m\u001B[38;5;241;43m=\u001B[39;49m\u001B[38;5;28;43mself\u001B[39;49m\u001B[38;5;241;43m.\u001B[39;49m\u001B[43m_indices\u001B[49m\u001B[43m)\u001B[49m\n\u001B[0;32m   2846\u001B[0m formatted_output \u001B[38;5;241m=\u001B[39m format_table(\n\u001B[0;32m   2847\u001B[0m     pa_subtable, key, formatter\u001B[38;5;241m=\u001B[39mformatter, format_columns\u001B[38;5;241m=\u001B[39mformat_columns, output_all_columns\u001B[38;5;241m=\u001B[39moutput_all_columns\n\u001B[0;32m   2848\u001B[0m )\n\u001B[0;32m   2849\u001B[0m \u001B[38;5;28;01mreturn\u001B[39;00m formatted_output\n",
      "File \u001B[1;32mD:\\Facultate\\ubb-fmi-work\\Semestrul IV\\AI\\PROIECT\\AI-PROIECT\\.venv\\Lib\\site-packages\\datasets\\formatting\\formatting.py:584\u001B[0m, in \u001B[0;36mquery_table\u001B[1;34m(table, key, indices)\u001B[0m\n\u001B[0;32m    582\u001B[0m         _raise_bad_key_type(key)\n\u001B[0;32m    583\u001B[0m \u001B[38;5;28;01mif\u001B[39;00m \u001B[38;5;28misinstance\u001B[39m(key, \u001B[38;5;28mstr\u001B[39m):\n\u001B[1;32m--> 584\u001B[0m     \u001B[43m_check_valid_column_key\u001B[49m\u001B[43m(\u001B[49m\u001B[43mkey\u001B[49m\u001B[43m,\u001B[49m\u001B[43m \u001B[49m\u001B[43mtable\u001B[49m\u001B[38;5;241;43m.\u001B[39;49m\u001B[43mcolumn_names\u001B[49m\u001B[43m)\u001B[49m\n\u001B[0;32m    585\u001B[0m \u001B[38;5;28;01melse\u001B[39;00m:\n\u001B[0;32m    586\u001B[0m     size \u001B[38;5;241m=\u001B[39m indices\u001B[38;5;241m.\u001B[39mnum_rows \u001B[38;5;28;01mif\u001B[39;00m indices \u001B[38;5;129;01mis\u001B[39;00m \u001B[38;5;129;01mnot\u001B[39;00m \u001B[38;5;28;01mNone\u001B[39;00m \u001B[38;5;28;01melse\u001B[39;00m table\u001B[38;5;241m.\u001B[39mnum_rows\n",
      "File \u001B[1;32mD:\\Facultate\\ubb-fmi-work\\Semestrul IV\\AI\\PROIECT\\AI-PROIECT\\.venv\\Lib\\site-packages\\datasets\\formatting\\formatting.py:521\u001B[0m, in \u001B[0;36m_check_valid_column_key\u001B[1;34m(key, columns)\u001B[0m\n\u001B[0;32m    519\u001B[0m \u001B[38;5;28;01mdef\u001B[39;00m \u001B[38;5;21m_check_valid_column_key\u001B[39m(key: \u001B[38;5;28mstr\u001B[39m, columns: List[\u001B[38;5;28mstr\u001B[39m]) \u001B[38;5;241m-\u001B[39m\u001B[38;5;241m>\u001B[39m \u001B[38;5;28;01mNone\u001B[39;00m:\n\u001B[0;32m    520\u001B[0m     \u001B[38;5;28;01mif\u001B[39;00m key \u001B[38;5;129;01mnot\u001B[39;00m \u001B[38;5;129;01min\u001B[39;00m columns:\n\u001B[1;32m--> 521\u001B[0m         \u001B[38;5;28;01mraise\u001B[39;00m \u001B[38;5;167;01mKeyError\u001B[39;00m(\u001B[38;5;124mf\u001B[39m\u001B[38;5;124m\"\u001B[39m\u001B[38;5;124mColumn \u001B[39m\u001B[38;5;132;01m{\u001B[39;00mkey\u001B[38;5;132;01m}\u001B[39;00m\u001B[38;5;124m not in the dataset. Current columns in the dataset: \u001B[39m\u001B[38;5;132;01m{\u001B[39;00mcolumns\u001B[38;5;132;01m}\u001B[39;00m\u001B[38;5;124m\"\u001B[39m)\n",
      "\u001B[1;31mKeyError\u001B[0m: \"Column train not in the dataset. Current columns in the dataset: ['Category', 'Title', 'Content', 'Summary', 'href', 'Source']\""
     ]
    }
   ],
   "execution_count": 10
  },
  {
   "metadata": {},
   "cell_type": "markdown",
   "source": "// de facut: analiza corelatie - train Inputs/Outputs? de intrebat profa daca trebuie pe toate categoriile sau merge pe o singura categorie + mica vrajeala la inceput cu de ce e necesara rezumarea textelor",
   "id": "a312aca52afe052e"
  }
 ],
 "metadata": {
  "kernelspec": {
   "display_name": "Python 3",
   "language": "python",
   "name": "python3"
  },
  "language_info": {
   "codemirror_mode": {
    "name": "ipython",
    "version": 2
   },
   "file_extension": ".py",
   "mimetype": "text/x-python",
   "name": "python",
   "nbconvert_exporter": "python",
   "pygments_lexer": "ipython2",
   "version": "2.7.6"
  }
 },
 "nbformat": 4,
 "nbformat_minor": 5
}
