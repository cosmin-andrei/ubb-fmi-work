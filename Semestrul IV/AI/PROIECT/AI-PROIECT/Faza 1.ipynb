{
 "cells": [
  {
   "cell_type": "markdown",
   "id": "fa7b743f819479a4",
   "metadata": {},
   "source": [
    "Rezumate pentru texte\n",
    "\n",
    "* Definirea problemei:\n",
    "- input = text pentru rezumare (string)\n",
    "- output = rezumat pentru textul dat input (string)\n",
    "- invatare supervizata: problema de regresie (seq2seq)\n",
    "\n",
    "* Analiza datelor de intrare:\n",
    "- categoria: guvern"
   ]
  },
  {
   "cell_type": "markdown",
   "id": "b4278f7a8028ebef",
   "metadata": {},
   "source": [
    "Incarcarea datelor de intrare"
   ]
  },
  {
   "cell_type": "code",
   "execution_count": 1,
   "id": "d87eabc5f258b0dc",
   "metadata": {
    "ExecuteTime": {
     "end_time": "2024-05-09T18:48:58.673627Z",
     "start_time": "2024-05-09T18:47:58.489453Z"
    }
   },
   "outputs": [
    {
     "data": {
      "application/vnd.jupyter.widget-view+json": {
       "model_id": "8cfc26dd7bc64b32a314b8e7da4cea6e",
       "version_major": 2,
       "version_minor": 0
      },
      "text/plain": [
       "Downloading data:   0%|          | 0.00/165M [00:00<?, ?B/s]"
      ]
     },
     "metadata": {},
     "output_type": "display_data"
    },
    {
     "data": {
      "application/vnd.jupyter.widget-view+json": {
       "model_id": "6d22afcdbaec4c9b912c74dfb7125ee7",
       "version_major": 2,
       "version_minor": 0
      },
      "text/plain": [
       "Downloading data:   0%|          | 0.00/18.3M [00:00<?, ?B/s]"
      ]
     },
     "metadata": {},
     "output_type": "display_data"
    },
    {
     "data": {
      "application/vnd.jupyter.widget-view+json": {
       "model_id": "ef64d68d70244f299ec3fe039daa7c74",
       "version_major": 2,
       "version_minor": 0
      },
      "text/plain": [
       "Generating train split:   0%|          | 0/65268 [00:00<?, ? examples/s]"
      ]
     },
     "metadata": {},
     "output_type": "display_data"
    },
    {
     "data": {
      "application/vnd.jupyter.widget-view+json": {
       "model_id": "439972707b354623bf5cc961016d668f",
       "version_major": 2,
       "version_minor": 0
      },
      "text/plain": [
       "Generating test split:   0%|          | 0/7253 [00:00<?, ? examples/s]"
      ]
     },
     "metadata": {},
     "output_type": "display_data"
    },
    {
     "name": "stdout",
     "output_type": "stream",
     "text": [
      "DatasetDict({\n",
      "    train: Dataset({\n",
      "        features: ['Category', 'Title', 'Content', 'Summary', 'href', 'Source'],\n",
      "        num_rows: 65268\n",
      "    })\n",
      "    test: Dataset({\n",
      "        features: ['Category', 'Title', 'Content', 'Summary', 'href', 'Source'],\n",
      "        num_rows: 7253\n",
      "    })\n",
      "})\n"
     ]
    }
   ],
   "source": [
    "from datasets import load_dataset\n",
    "\n",
    "dataset = load_dataset(\"readerbench/ro-text-summarization\")\n",
    "print(dataset)"
   ]
  },
  {
   "cell_type": "code",
   "execution_count": null,
   "id": "8fceea9b58c70ef7",
   "metadata": {},
   "outputs": [],
   "source": []
  }
 ],
 "metadata": {
  "kernelspec": {
   "display_name": "Python 3 (ipykernel)",
   "language": "python",
   "name": "python3"
  },
  "language_info": {
   "codemirror_mode": {
    "name": "ipython",
    "version": 3
   },
   "file_extension": ".py",
   "mimetype": "text/x-python",
   "name": "python",
   "nbconvert_exporter": "python",
   "pygments_lexer": "ipython3",
   "version": "3.12.0"
  }
 },
 "nbformat": 4,
 "nbformat_minor": 5
}
