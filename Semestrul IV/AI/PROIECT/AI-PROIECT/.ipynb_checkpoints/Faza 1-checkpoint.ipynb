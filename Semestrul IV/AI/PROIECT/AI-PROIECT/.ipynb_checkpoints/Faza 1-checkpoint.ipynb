{
 "cells": [
  {
   "metadata": {},
   "cell_type": "markdown",
   "source": [
    "Rezumate pentru texte\n",
    "\n",
    "* Definirea problemei:\n",
    "- input = text pentru rezumare (string)\n",
    "- output = rezumat pentru textul dat input (string)\n",
    "- invatare supervizata: problema de regresie (seq2seq)\n",
    "\n",
    "* Analiza datelor de intrare:\n",
    "- categoria: guvern"
   ],
   "id": "fa7b743f819479a4"
  },
  {
   "metadata": {},
   "cell_type": "markdown",
   "source": "Incarcarea datelor de intrare",
   "id": "b4278f7a8028ebef"
  },
  {
   "metadata": {
    "ExecuteTime": {
     "end_time": "2024-05-09T18:48:58.673627Z",
     "start_time": "2024-05-09T18:47:58.489453Z"
    }
   },
   "cell_type": "code",
   "source": [
    "from datasets import load_dataset\n",
    "\n",
    "dataset = load_dataset(\"readerbench/ro-text-summarization\")\n",
    "print(dataset)"
   ],
   "id": "d87eabc5f258b0dc",
   "outputs": [
    {
     "data": {
      "text/plain": [
       "Downloading data:   0%|          | 0.00/165M [00:00<?, ?B/s]"
      ],
      "application/vnd.jupyter.widget-view+json": {
       "version_major": 2,
       "version_minor": 0,
       "model_id": "8cfc26dd7bc64b32a314b8e7da4cea6e"
      }
     },
     "metadata": {},
     "output_type": "display_data"
    },
    {
     "data": {
      "text/plain": [
       "Downloading data:   0%|          | 0.00/18.3M [00:00<?, ?B/s]"
      ],
      "application/vnd.jupyter.widget-view+json": {
       "version_major": 2,
       "version_minor": 0,
       "model_id": "6d22afcdbaec4c9b912c74dfb7125ee7"
      }
     },
     "metadata": {},
     "output_type": "display_data"
    },
    {
     "data": {
      "text/plain": [
       "Generating train split:   0%|          | 0/65268 [00:00<?, ? examples/s]"
      ],
      "application/vnd.jupyter.widget-view+json": {
       "version_major": 2,
       "version_minor": 0,
       "model_id": "ef64d68d70244f299ec3fe039daa7c74"
      }
     },
     "metadata": {},
     "output_type": "display_data"
    },
    {
     "data": {
      "text/plain": [
       "Generating test split:   0%|          | 0/7253 [00:00<?, ? examples/s]"
      ],
      "application/vnd.jupyter.widget-view+json": {
       "version_major": 2,
       "version_minor": 0,
       "model_id": "439972707b354623bf5cc961016d668f"
      }
     },
     "metadata": {},
     "output_type": "display_data"
    },
    {
     "name": "stdout",
     "output_type": "stream",
     "text": [
      "DatasetDict({\n",
      "    train: Dataset({\n",
      "        features: ['Category', 'Title', 'Content', 'Summary', 'href', 'Source'],\n",
      "        num_rows: 65268\n",
      "    })\n",
      "    test: Dataset({\n",
      "        features: ['Category', 'Title', 'Content', 'Summary', 'href', 'Source'],\n",
      "        num_rows: 7253\n",
      "    })\n",
      "})\n"
     ]
    }
   ],
   "execution_count": 1
  },
  {
   "metadata": {},
   "cell_type": "code",
   "outputs": [],
   "execution_count": null,
   "source": "",
   "id": "8fceea9b58c70ef7"
  }
 ],
 "metadata": {
  "kernelspec": {
   "display_name": "Python 3",
   "language": "python",
   "name": "python3"
  },
  "language_info": {
   "codemirror_mode": {
    "name": "ipython",
    "version": 2
   },
   "file_extension": ".py",
   "mimetype": "text/x-python",
   "name": "python",
   "nbconvert_exporter": "python",
   "pygments_lexer": "ipython2",
   "version": "2.7.6"
  }
 },
 "nbformat": 4,
 "nbformat_minor": 5
}
