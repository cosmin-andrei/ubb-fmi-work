{
 "cells": [
  {
   "metadata": {
    "ExecuteTime": {
     "end_time": "2024-04-19T09:30:28.372622Z",
     "start_time": "2024-04-19T09:30:28.360505Z"
    }
   },
   "cell_type": "code",
   "source": [
    "import random\n",
    "\n",
    "\n",
    "def load_data(file):\n",
    "    with open(file, 'r', encoding='utf-8') as f:\n",
    "        text = f.read()\n",
    "    return text"
   ],
   "id": "71c4d9e9cd72f2d6",
   "outputs": [],
   "execution_count": 1
  },
  {
   "cell_type": "code",
   "id": "initial_id",
   "metadata": {
    "collapsed": true,
    "ExecuteTime": {
     "end_time": "2024-04-19T09:30:28.386927Z",
     "start_time": "2024-04-19T09:30:28.372622Z"
    }
   },
   "source": [
    "# 1a) Generare în limba română: Implementați un sistem care transformă un text (corpus) într-un lanț Markov și folosiți-l pentru a generare un proverb sau o poezie în limba română (folosiți fișierele proverbRo.txt sau poezieRo.txt)\n",
    "# Varianta 1 – Implementați un lanț Markov cu o singură stare sau\n",
    "\n",
    "def lant_markov_1stare(text):\n",
    "    words = text.split()\n",
    "    lant = {}\n",
    "    for i in range(len(words)-1):\n",
    "        word = words[i]\n",
    "        next_word = words[i+1]\n",
    "        if word not in lant.keys():\n",
    "            lant[word] = [next_word]  \n",
    "        else:\n",
    "            lant[word].append(next_word)  \n",
    "    return lant\n",
    "\n",
    "def generate_1stare(lant, length):\n",
    "    proverb = []\n",
    "    word = random.choice(list(lant.keys()))\n",
    "    while word != '.' and len(proverb) < length:\n",
    "        proverb.append(word)\n",
    "        word = random.choice(lant.get(word, [\".\"]))\n",
    "    if word != '.':\n",
    "        proverb.append(word)\n",
    "    return ' '.join(proverb)\n",
    "\n",
    "file_to_Read = \"proverbRo.txt\"\n",
    "# file_to_Read = \"poezieRo.txt\"\n",
    "_text = load_data(file_to_Read)\n",
    "_lant = lant_markov_1stare(_text)\n",
    "_proverb = generate_1stare(_lant, len(_text))\n",
    "print(_proverb)"
   ],
   "outputs": [
    {
     "name": "stdout",
     "output_type": "stream",
     "text": [
      "face pe placul tuturor e calea cea mai sigură către necinste.\n"
     ]
    }
   ],
   "execution_count": 2
  },
  {
   "metadata": {
    "ExecuteTime": {
     "end_time": "2024-04-19T09:30:28.397671Z",
     "start_time": "2024-04-19T09:30:28.389280Z"
    }
   },
   "cell_type": "code",
   "source": [
    "# 1b) Varianta 2 – Implementați un lanț Markov cu n-stări'\n",
    "\n",
    "def lant_markov_nstari(text, n):\n",
    "    words = text.split()\n",
    "    lant = {}\n",
    "    for i in range(len(words) - n):\n",
    "        state = tuple(words[i:i+n])\n",
    "        next_word = words[i+n]\n",
    "        if state not in lant.keys():\n",
    "            lant[state] = [next_word]\n",
    "        else:\n",
    "            lant[state].append(next_word)\n",
    "    return lant\n",
    "\n",
    "def generate_nstari(lant, length):\n",
    "    proverb = []\n",
    "    state = random.choice(list(lant.keys()))\n",
    "    for _ in range(length):\n",
    "        next_word = random.choice(lant.get(state, [\".\"]))\n",
    "        if next_word == '.':\n",
    "            break\n",
    "        proverb.append(next_word)\n",
    "        state = state[1:] + (next_word,)\n",
    "    return ' '.join(proverb)\n",
    "\n",
    "\n",
    "file_to_Read = \"proverbRo.txt\"\n",
    "# file_to_Read = \"poezieRo.txt\"\n",
    "_text = load_data(file_to_Read)\n",
    "n_stari = 2\n",
    "_lant = lant_markov_nstari(_text, n_stari)\n",
    "_proverb = generate_nstari(_lant, len(_text.split()) * 2)\n",
    "print(_proverb)"
   ],
   "id": "5d7432a54b73fb99",
   "outputs": [
    {
     "name": "stdout",
     "output_type": "stream",
     "text": [
      "mai sigură către necinste.\n"
     ]
    }
   ],
   "execution_count": 3
  },
  {
   "metadata": {
    "ExecuteTime": {
     "end_time": "2024-04-19T09:30:28.494041Z",
     "start_time": "2024-04-19T09:30:28.399646Z"
    }
   },
   "cell_type": "code",
   "source": [
    "#2a Generare în limba engleză:\n",
    "# a. Folosiți biblioteca markovify (sau implementarea voastră de la problema 1) pentru a genera o strofă de poezie în limba engleză folosind unul din următoarele corpus-uri (sau orice altă sursă găsiți voi):\n",
    "\n",
    "import markovify\n",
    "\n",
    "text = load_data(\"sonnet.txt\")\n",
    "model = markovify.Text(text) #construire model\n",
    "generare = model.make_sentence() # generare strofa\n",
    "print(generare)\n"
   ],
   "id": "ec2cbaf5c74a9972",
   "outputs": [
    {
     "name": "stdout",
     "output_type": "stream",
     "text": [
      "Who is it not thy show, Then thou alone kingdoms of hearts can mend; All tongues, the voice of souls, give thee memory; Thou by thy beauty grow, If thy soul check thee that I call Her love, for whose dear love lose name of single one, That by this separation I may not be shown; Unless this general evil they maintain, All men are bad and in hue, Finding thy worth a limit past my praise; And therefore mayst without attaint o'erlook The dedicated words which writers use Of their sweet deaths are sweetest odours made: And so the General of hot desire Was, sleeping, by a painted beauty to his verse, Who heaven itself for ornament doth use And under thee their poesy disperse.\n"
     ]
    }
   ],
   "execution_count": 4
  },
  {
   "metadata": {
    "ExecuteTime": {
     "end_time": "2024-04-19T09:30:34.588034Z",
     "start_time": "2024-04-19T09:30:28.495555Z"
    }
   },
   "cell_type": "code",
   "source": [
    "#2b. Calculați emoția textului generat, puteți folosi una din următoarele resurse:\n",
    "# Natural Language Toolkit (nltk) SentimentIntensityAnalyzer\n",
    "# TextBlob sentiment\n",
    "\n",
    "from textblob import TextBlob\n",
    "blob = TextBlob(generare)\n",
    "feel = blob.sentiment.polarity\n",
    "print(feel)\n"
   ],
   "id": "7d10e59dac33e3d7",
   "outputs": [
    {
     "name": "stdout",
     "output_type": "stream",
     "text": [
      "-0.0019480519480519311\n"
     ]
    }
   ],
   "execution_count": 5
  },
  {
   "metadata": {
    "ExecuteTime": {
     "end_time": "2024-04-19T09:30:35.850611Z",
     "start_time": "2024-04-19T09:30:34.588544Z"
    }
   },
   "cell_type": "code",
   "source": [
    "# c. Pentru a adresa limitările de creativitate în poezia generată înlocuiți aleator cuvinte cu sinonime. Se cere ca sinonimele să fie obținute folosind embedding-uri. (i.e. Cuvântul ales e transformat în forma sa embedded și se alege embedding-ul cel mai apropiat care este convertit la string)\n",
    "\n",
    "import gensim.downloader as api\n",
    "\n",
    "word2vec_model = api.load(\"word2vec-google-news-300\")\n",
    "\n",
    "sinonime=[]\n",
    "for word in blob.words:\n",
    "    word_vect = word2vec_model[word]\n",
    "    similar_word = word2vec_model.most_similar([word_vect])\n",
    "    sinonime.append(similar_word)\n",
    "    \n",
    "print(sinonime)"
   ],
   "id": "23a10ca1c0880fa4",
   "outputs": [
    {
     "ename": "ImportError",
     "evalue": "cannot import name 'triu' from 'scipy.linalg' (D:\\Facultate\\ubb-fmi-work\\Semestrul IV\\AI\\LAB7\\l7-rezolvari\\.venv\\Lib\\site-packages\\scipy\\linalg\\__init__.py)",
     "output_type": "error",
     "traceback": [
      "\u001B[1;31m---------------------------------------------------------------------------\u001B[0m",
      "\u001B[1;31mImportError\u001B[0m                               Traceback (most recent call last)",
      "Cell \u001B[1;32mIn[6], line 3\u001B[0m\n\u001B[0;32m      1\u001B[0m \u001B[38;5;66;03m# c. Pentru a adresa limitările de creativitate în poezia generată înlocuiți aleator cuvinte cu sinonime. Se cere ca sinonimele să fie obținute folosind embedding-uri. (i.e. Cuvântul ales e transformat în forma sa embedded și se alege embedding-ul cel mai apropiat care este convertit la string)\u001B[39;00m\n\u001B[1;32m----> 3\u001B[0m \u001B[38;5;28;01mimport\u001B[39;00m \u001B[38;5;21;01mgensim\u001B[39;00m\u001B[38;5;21;01m.\u001B[39;00m\u001B[38;5;21;01mdownloader\u001B[39;00m \u001B[38;5;28;01mas\u001B[39;00m \u001B[38;5;21;01mapi\u001B[39;00m\n\u001B[0;32m      5\u001B[0m word2vec_model \u001B[38;5;241m=\u001B[39m api\u001B[38;5;241m.\u001B[39mload(\u001B[38;5;124m\"\u001B[39m\u001B[38;5;124mword2vec-google-news-300\u001B[39m\u001B[38;5;124m\"\u001B[39m)\n\u001B[0;32m      7\u001B[0m sinonime\u001B[38;5;241m=\u001B[39m[]\n",
      "File \u001B[1;32mD:\\Facultate\\ubb-fmi-work\\Semestrul IV\\AI\\LAB7\\l7-rezolvari\\.venv\\Lib\\site-packages\\gensim\\__init__.py:11\u001B[0m\n\u001B[0;32m      7\u001B[0m __version__ \u001B[38;5;241m=\u001B[39m \u001B[38;5;124m'\u001B[39m\u001B[38;5;124m4.3.2\u001B[39m\u001B[38;5;124m'\u001B[39m\n\u001B[0;32m      9\u001B[0m \u001B[38;5;28;01mimport\u001B[39;00m \u001B[38;5;21;01mlogging\u001B[39;00m\n\u001B[1;32m---> 11\u001B[0m \u001B[38;5;28;01mfrom\u001B[39;00m \u001B[38;5;21;01mgensim\u001B[39;00m \u001B[38;5;28;01mimport\u001B[39;00m parsing, corpora, matutils, interfaces, models, similarities, utils  \u001B[38;5;66;03m# noqa:F401\u001B[39;00m\n\u001B[0;32m     14\u001B[0m logger \u001B[38;5;241m=\u001B[39m logging\u001B[38;5;241m.\u001B[39mgetLogger(\u001B[38;5;124m'\u001B[39m\u001B[38;5;124mgensim\u001B[39m\u001B[38;5;124m'\u001B[39m)\n\u001B[0;32m     15\u001B[0m \u001B[38;5;28;01mif\u001B[39;00m \u001B[38;5;129;01mnot\u001B[39;00m logger\u001B[38;5;241m.\u001B[39mhandlers:  \u001B[38;5;66;03m# To ensure reload() doesn't add another one\u001B[39;00m\n",
      "File \u001B[1;32mD:\\Facultate\\ubb-fmi-work\\Semestrul IV\\AI\\LAB7\\l7-rezolvari\\.venv\\Lib\\site-packages\\gensim\\corpora\\__init__.py:6\u001B[0m\n\u001B[0;32m      1\u001B[0m \u001B[38;5;124;03m\"\"\"\u001B[39;00m\n\u001B[0;32m      2\u001B[0m \u001B[38;5;124;03mThis package contains implementations of various streaming corpus I/O format.\u001B[39;00m\n\u001B[0;32m      3\u001B[0m \u001B[38;5;124;03m\"\"\"\u001B[39;00m\n\u001B[0;32m      5\u001B[0m \u001B[38;5;66;03m# bring corpus classes directly into package namespace, to save some typing\u001B[39;00m\n\u001B[1;32m----> 6\u001B[0m \u001B[38;5;28;01mfrom\u001B[39;00m \u001B[38;5;21;01m.\u001B[39;00m\u001B[38;5;21;01mindexedcorpus\u001B[39;00m \u001B[38;5;28;01mimport\u001B[39;00m IndexedCorpus  \u001B[38;5;66;03m# noqa:F401 must appear before the other classes\u001B[39;00m\n\u001B[0;32m      8\u001B[0m \u001B[38;5;28;01mfrom\u001B[39;00m \u001B[38;5;21;01m.\u001B[39;00m\u001B[38;5;21;01mmmcorpus\u001B[39;00m \u001B[38;5;28;01mimport\u001B[39;00m MmCorpus  \u001B[38;5;66;03m# noqa:F401\u001B[39;00m\n\u001B[0;32m      9\u001B[0m \u001B[38;5;28;01mfrom\u001B[39;00m \u001B[38;5;21;01m.\u001B[39;00m\u001B[38;5;21;01mbleicorpus\u001B[39;00m \u001B[38;5;28;01mimport\u001B[39;00m BleiCorpus  \u001B[38;5;66;03m# noqa:F401\u001B[39;00m\n",
      "File \u001B[1;32mD:\\Facultate\\ubb-fmi-work\\Semestrul IV\\AI\\LAB7\\l7-rezolvari\\.venv\\Lib\\site-packages\\gensim\\corpora\\indexedcorpus.py:14\u001B[0m\n\u001B[0;32m     10\u001B[0m \u001B[38;5;28;01mimport\u001B[39;00m \u001B[38;5;21;01mlogging\u001B[39;00m\n\u001B[0;32m     12\u001B[0m \u001B[38;5;28;01mimport\u001B[39;00m \u001B[38;5;21;01mnumpy\u001B[39;00m\n\u001B[1;32m---> 14\u001B[0m \u001B[38;5;28;01mfrom\u001B[39;00m \u001B[38;5;21;01mgensim\u001B[39;00m \u001B[38;5;28;01mimport\u001B[39;00m interfaces, utils\n\u001B[0;32m     16\u001B[0m logger \u001B[38;5;241m=\u001B[39m logging\u001B[38;5;241m.\u001B[39mgetLogger(\u001B[38;5;18m__name__\u001B[39m)\n\u001B[0;32m     19\u001B[0m \u001B[38;5;28;01mclass\u001B[39;00m \u001B[38;5;21;01mIndexedCorpus\u001B[39;00m(interfaces\u001B[38;5;241m.\u001B[39mCorpusABC):\n",
      "File \u001B[1;32mD:\\Facultate\\ubb-fmi-work\\Semestrul IV\\AI\\LAB7\\l7-rezolvari\\.venv\\Lib\\site-packages\\gensim\\interfaces.py:19\u001B[0m\n\u001B[0;32m      7\u001B[0m \u001B[38;5;124;03m\"\"\"Basic interfaces used across the whole Gensim package.\u001B[39;00m\n\u001B[0;32m      8\u001B[0m \n\u001B[0;32m      9\u001B[0m \u001B[38;5;124;03mThese interfaces are used for building corpora, model transformation and similarity queries.\u001B[39;00m\n\u001B[1;32m   (...)\u001B[0m\n\u001B[0;32m     14\u001B[0m \n\u001B[0;32m     15\u001B[0m \u001B[38;5;124;03m\"\"\"\u001B[39;00m\n\u001B[0;32m     17\u001B[0m \u001B[38;5;28;01mimport\u001B[39;00m \u001B[38;5;21;01mlogging\u001B[39;00m\n\u001B[1;32m---> 19\u001B[0m \u001B[38;5;28;01mfrom\u001B[39;00m \u001B[38;5;21;01mgensim\u001B[39;00m \u001B[38;5;28;01mimport\u001B[39;00m utils, matutils\n\u001B[0;32m     22\u001B[0m logger \u001B[38;5;241m=\u001B[39m logging\u001B[38;5;241m.\u001B[39mgetLogger(\u001B[38;5;18m__name__\u001B[39m)\n\u001B[0;32m     25\u001B[0m \u001B[38;5;28;01mclass\u001B[39;00m \u001B[38;5;21;01mCorpusABC\u001B[39;00m(utils\u001B[38;5;241m.\u001B[39mSaveLoad):\n",
      "File \u001B[1;32mD:\\Facultate\\ubb-fmi-work\\Semestrul IV\\AI\\LAB7\\l7-rezolvari\\.venv\\Lib\\site-packages\\gensim\\matutils.py:20\u001B[0m\n\u001B[0;32m     18\u001B[0m \u001B[38;5;28;01mimport\u001B[39;00m \u001B[38;5;21;01mscipy\u001B[39;00m\u001B[38;5;21;01m.\u001B[39;00m\u001B[38;5;21;01msparse\u001B[39;00m\n\u001B[0;32m     19\u001B[0m \u001B[38;5;28;01mfrom\u001B[39;00m \u001B[38;5;21;01mscipy\u001B[39;00m\u001B[38;5;21;01m.\u001B[39;00m\u001B[38;5;21;01mstats\u001B[39;00m \u001B[38;5;28;01mimport\u001B[39;00m entropy\n\u001B[1;32m---> 20\u001B[0m \u001B[38;5;28;01mfrom\u001B[39;00m \u001B[38;5;21;01mscipy\u001B[39;00m\u001B[38;5;21;01m.\u001B[39;00m\u001B[38;5;21;01mlinalg\u001B[39;00m \u001B[38;5;28;01mimport\u001B[39;00m get_blas_funcs, triu\n\u001B[0;32m     21\u001B[0m \u001B[38;5;28;01mfrom\u001B[39;00m \u001B[38;5;21;01mscipy\u001B[39;00m\u001B[38;5;21;01m.\u001B[39;00m\u001B[38;5;21;01mlinalg\u001B[39;00m\u001B[38;5;21;01m.\u001B[39;00m\u001B[38;5;21;01mlapack\u001B[39;00m \u001B[38;5;28;01mimport\u001B[39;00m get_lapack_funcs\n\u001B[0;32m     22\u001B[0m \u001B[38;5;28;01mfrom\u001B[39;00m \u001B[38;5;21;01mscipy\u001B[39;00m\u001B[38;5;21;01m.\u001B[39;00m\u001B[38;5;21;01mspecial\u001B[39;00m \u001B[38;5;28;01mimport\u001B[39;00m psi  \u001B[38;5;66;03m# gamma function utils\u001B[39;00m\n",
      "\u001B[1;31mImportError\u001B[0m: cannot import name 'triu' from 'scipy.linalg' (D:\\Facultate\\ubb-fmi-work\\Semestrul IV\\AI\\LAB7\\l7-rezolvari\\.venv\\Lib\\site-packages\\scipy\\linalg\\__init__.py)"
     ]
    }
   ],
   "execution_count": 6
  },
  {
   "metadata": {},
   "cell_type": "code",
   "outputs": [],
   "execution_count": null,
   "source": "",
   "id": "af2e5a47abf08830"
  }
 ],
 "metadata": {
  "kernelspec": {
   "display_name": "Python 3",
   "language": "python",
   "name": "python3"
  },
  "language_info": {
   "codemirror_mode": {
    "name": "ipython",
    "version": 2
   },
   "file_extension": ".py",
   "mimetype": "text/x-python",
   "name": "python",
   "nbconvert_exporter": "python",
   "pygments_lexer": "ipython2",
   "version": "2.7.6"
  }
 },
 "nbformat": 4,
 "nbformat_minor": 5
}
