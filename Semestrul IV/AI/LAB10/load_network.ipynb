{
 "cells": [
  {
   "metadata": {},
   "cell_type": "markdown",
   "source": "Read the network details",
   "id": "34db14d9b67767eb"
  },
  {
   "metadata": {
    "ExecuteTime": {
     "end_time": "2024-05-17T06:12:17.333629Z",
     "start_time": "2024-05-17T06:12:17.325648Z"
    }
   },
   "cell_type": "code",
   "source": [
    "# read the network details\n",
    "def readNet(fileName):\n",
    "    f = open(fileName, \"r\")\n",
    "    net = {}\n",
    "    n = int(f.readline())\n",
    "    net['noNodes'] = n\n",
    "    mat = []\n",
    "    for i in range(n):\n",
    "        mat.append([])\n",
    "        line = f.readline()\n",
    "        elems = line.split(\" \")\n",
    "        for j in range(n):\n",
    "            mat[-1].append(int(elems[j]))\n",
    "    net[\"mat\"] = mat \n",
    "    degrees = []\n",
    "    noEdges = 0\n",
    "    for i in range(n):\n",
    "        d = 0\n",
    "        for j in range(n):\n",
    "            if (mat[i][j] == 1):\n",
    "                d += 1\n",
    "            if (j > i):\n",
    "                noEdges += mat[i][j]\n",
    "        degrees.append(d)\n",
    "    net[\"noEdges\"] = noEdges\n",
    "    net[\"degrees\"] = degrees\n",
    "    f.close()\n",
    "    return net"
   ],
   "id": "initial_id",
   "outputs": [],
   "execution_count": 1
  },
  {
   "metadata": {},
   "cell_type": "markdown",
   "source": "Load a network",
   "id": "d01219f7af01e18e"
  },
  {
   "metadata": {
    "ExecuteTime": {
     "end_time": "2024-05-17T06:13:50.220835Z",
     "start_time": "2024-05-17T06:13:50.216762Z"
    }
   },
   "cell_type": "code",
   "source": [
    "# load a network\n",
    "import os \n",
    "\n",
    "crtDir =  os.getcwd()\n",
    "filePath = os.path.join(crtDir, 'communityDetection', 'data', 'net.in')\n",
    "network = readNet(filePath)"
   ],
   "id": "48f6582bd03390e2",
   "outputs": [],
   "execution_count": 3
  },
  {
   "metadata": {},
   "cell_type": "markdown",
   "source": "Plot the network",
   "id": "3272732d2d12a8f6"
  },
  {
   "metadata": {
    "ExecuteTime": {
     "end_time": "2024-05-17T06:15:00.930565Z",
     "start_time": "2024-05-17T06:15:00.770335Z"
    }
   },
   "cell_type": "code",
   "source": [
    "# plot the network \n",
    "import numpy as np \n",
    "import networkx as nx\n",
    "import matplotlib.pyplot as plt \n",
    "import warnings \n",
    "\n",
    "warnings.simplefilter('ignore')\n",
    "\n",
    "A=np.matrix(network[\"mat\"])\n",
    "G=nx.from_numpy_array(A)\n",
    "pos = nx.spring_layout(G)  # compute graph layout\n",
    "plt.figure(figsize=(4, 4))  # image is 8 x 8 inches \n",
    "nx.draw_networkx_nodes(G, pos, node_size=600, cmap=plt.cm.RdYlBu)\n",
    "nx.draw_networkx_edges(G, pos, alpha=0.3)\n",
    "plt.show(G)"
   ],
   "id": "ad1fd69daf0c6750",
   "outputs": [
    {
     "data": {
      "text/plain": [
       "<Figure size 400x400 with 1 Axes>"
      ],
      "image/png": "[encoded data removed]"
     },
     "metadata": {},
     "output_type": "display_data"
    }
   ],
   "execution_count": 5
  },
  {
   "metadata": {},
   "cell_type": "markdown",
   "source": "Show the communities in a network",
   "id": "48559e3c319d21a0"
  },
  {
   "metadata": {
    "ExecuteTime": {
     "end_time": "2024-05-17T06:15:15.058570Z",
     "start_time": "2024-05-17T06:15:14.984116Z"
    }
   },
   "cell_type": "code",
   "source": [
    "# plot a particular division in communities\n",
    "communities = [1,2,1,2,1, 1]\n",
    "\n",
    "A=np.matrix(network[\"mat\"])\n",
    "G=nx.from_numpy_array(A)\n",
    "pos = nx.spring_layout(G)  # compute graph layout\n",
    "plt.figure(figsize=(4, 4))  # image is 8 x 8 inches \n",
    "nx.draw_networkx_nodes(G, pos, node_size = 600, cmap = plt.cm.RdYlBu, node_color = communities)\n",
    "nx.draw_networkx_edges(G, pos, alpha = 0.3)\n",
    "plt.show(G)"
   ],
   "id": "a033830e519a1969",
   "outputs": [
    {
     "data": {
      "text/plain": [
       "<Figure size 400x400 with 1 Axes>"
      ],
      "image/png": "[encoded data removed]"
     },
     "metadata": {},
     "output_type": "display_data"
    }
   ],
   "execution_count": 7
  },
  {
   "metadata": {},
   "cell_type": "markdown",
   "source": "Evaluarea impartirii pe comunitati",
   "id": "e32a2dedab32d8cd"
  },
  {
   "metadata": {
    "ExecuteTime": {
     "end_time": "2024-05-17T06:15:17.957618Z",
     "start_time": "2024-05-17T06:15:17.951631Z"
    }
   },
   "cell_type": "code",
   "source": [
    "# evaluate the quality of previous communities inside a network\n",
    "# https://www.cs.cmu.edu/~ckingsf/bioinfo-lectures/modularity.pdf\n",
    "\n",
    "def modularity(communities, param):\n",
    "    noNodes = param['noNodes']\n",
    "    mat = param['mat']\n",
    "    degrees = param['degrees']\n",
    "    noEdges = param['noEdges']  \n",
    "    M = 2 * noEdges\n",
    "    Q = 0.0\n",
    "    for i in range(0, noNodes):\n",
    "        for j in range(0, noNodes):\n",
    "            if (communities[i] == communities[j]):\n",
    "               Q += (mat[i][j] - degrees[i] * degrees[j] / M)\n",
    "    return Q * 1 / M\n",
    "\n",
    "print(modularity([1,2,1,2,1,1], network))"
   ],
   "id": "d12cb6bd5dd9db88",
   "outputs": [
    {
     "name": "stdout",
     "output_type": "stream",
     "text": [
      "-0.125\n"
     ]
    }
   ],
   "execution_count": 8
  },
  {
   "metadata": {},
   "cell_type": "markdown",
   "source": "Read network from a GML File",
   "id": "69e39b798b49eb5f"
  },
  {
   "metadata": {
    "ExecuteTime": {
     "end_time": "2024-05-17T06:35:04.821269Z",
     "start_time": "2024-05-17T06:35:04.817247Z"
    }
   },
   "cell_type": "code",
   "source": [
    "def readNet_GML(fileName):\n",
    "    G = nx.read_gml(fileName)\n",
    "    \n",
    "    net = {}\n",
    "    n = len(G.nodes())\n",
    "    net['noNodes'] = n\n",
    "    mat = nx.to_numpy_array(G, dtype=int).tolist()\n",
    "    net[\"mat\"] = mat \n",
    "    degrees = [val for (node, val) in G.degree()]\n",
    "    net[\"degrees\"] = degrees\n",
    "    noEdges = G.number_of_edges()\n",
    "    net[\"noEdges\"] = noEdges\n",
    "    \n",
    "    return G, net"
   ],
   "id": "e3b0b1437b48ac09",
   "outputs": [],
   "execution_count": 21
  },
  {
   "metadata": {},
   "cell_type": "markdown",
   "source": "Read communities label",
   "id": "4f57da6130517479"
  },
  {
   "metadata": {
    "ExecuteTime": {
     "end_time": "2024-05-17T06:35:31.891497Z",
     "start_time": "2024-05-17T06:35:31.887184Z"
    }
   },
   "cell_type": "code",
   "source": [
    "def readCommunities(fileName):\n",
    "    node_community = {}\n",
    "    with open(fileName, 'r') as f:\n",
    "        for line in f:\n",
    "            parts = line.strip().split()  # Sau .split(',') dacă separatorul este virgulă\n",
    "            node = parts[0]\n",
    "            community = int(parts[1])\n",
    "            node_community[node] = community\n",
    "    return node_community"
   ],
   "id": "2856ba5496181c84",
   "outputs": [],
   "execution_count": 23
  },
  {
   "metadata": {},
   "cell_type": "markdown",
   "source": "Load dolphins network",
   "id": "d347fdfaf7e496a2"
  },
  {
   "metadata": {
    "ExecuteTime": {
     "end_time": "2024-05-17T06:39:14.067111Z",
     "start_time": "2024-05-17T06:39:14.053053Z"
    }
   },
   "cell_type": "code",
   "source": [
    "# load a network\n",
    "import os \n",
    "\n",
    "crtDir =  os.getcwd()\n",
    "filePath = os.path.join(crtDir, 'communityDetection', 'data', 'dolphins', 'dolphins.gml')\n",
    "network_dolphins = readNet_GML(filePath)\n",
    "\n",
    "# load labels\n",
    "# nod_id, community_id\n",
    "filePath = os.path.join(crtDir, 'communityDetection', 'data', 'dolphins', 'classLabeldolphins.txt')\n",
    "node_community = readCommunities(filePath)\n"
   ],
   "id": "c2f1a759de07836b",
   "outputs": [],
   "execution_count": 30
  },
  {
   "metadata": {
    "ExecuteTime": {
     "end_time": "2024-05-17T06:39:15.337525Z",
     "start_time": "2024-05-17T06:39:15.324338Z"
    }
   },
   "cell_type": "code",
   "source": [
    "# plot the network \n",
    "import numpy as np \n",
    "import networkx as nx\n",
    "import matplotlib.pyplot as plt \n",
    "import warnings \n",
    "\n",
    "warnings.simplefilter('ignore')\n",
    "\n",
    "A=np.matrix(network_dolphins[\"mat\"])\n",
    "G=nx.from_numpy_array(A)\n",
    "pos = nx.spring_layout(G)  # compute graph layout\n",
    "plt.figure(figsize=(4, 4))  # image is 8 x 8 inches \n",
    "nx.draw_networkx_nodes(G, pos, node_size=600, cmap=plt.cm.RdYlBu)\n",
    "nx.draw_networkx_edges(G, pos, alpha=0.3)\n",
    "plt.show(G)"
   ],
   "id": "5a2587782e28373d",
   "outputs": [
    {
     "ename": "TypeError",
     "evalue": "tuple indices must be integers or slices, not str",
     "output_type": "error",
     "traceback": [
      "\u001B[1;31m---------------------------------------------------------------------------\u001B[0m",
      "\u001B[1;31mTypeError\u001B[0m                                 Traceback (most recent call last)",
      "Cell \u001B[1;32mIn[31], line 9\u001B[0m\n\u001B[0;32m      5\u001B[0m \u001B[38;5;28;01mimport\u001B[39;00m \u001B[38;5;21;01mwarnings\u001B[39;00m \n\u001B[0;32m      7\u001B[0m warnings\u001B[38;5;241m.\u001B[39msimplefilter(\u001B[38;5;124m'\u001B[39m\u001B[38;5;124mignore\u001B[39m\u001B[38;5;124m'\u001B[39m)\n\u001B[1;32m----> 9\u001B[0m A\u001B[38;5;241m=\u001B[39mnp\u001B[38;5;241m.\u001B[39mmatrix(\u001B[43mnetwork_dolphins\u001B[49m\u001B[43m[\u001B[49m\u001B[38;5;124;43m\"\u001B[39;49m\u001B[38;5;124;43mmat\u001B[39;49m\u001B[38;5;124;43m\"\u001B[39;49m\u001B[43m]\u001B[49m)\n\u001B[0;32m     10\u001B[0m G\u001B[38;5;241m=\u001B[39mnx\u001B[38;5;241m.\u001B[39mfrom_numpy_array(A)\n\u001B[0;32m     11\u001B[0m pos \u001B[38;5;241m=\u001B[39m nx\u001B[38;5;241m.\u001B[39mspring_layout(G)  \u001B[38;5;66;03m# compute graph layout\u001B[39;00m\n",
      "\u001B[1;31mTypeError\u001B[0m: tuple indices must be integers or slices, not str"
     ]
    }
   ],
   "execution_count": 31
  },
  {
   "metadata": {
    "ExecuteTime": {
     "end_time": "2024-05-17T06:39:16.473594Z",
     "start_time": "2024-05-17T06:39:16.412499Z"
    }
   },
   "cell_type": "code",
   "source": [
    "# plot a particular division in communities\n",
    "communities = [1,2,1,2,1, 1]\n",
    "\n",
    "A=np.matrix(network[\"mat\"])\n",
    "G=nx.from_numpy_array(A)\n",
    "pos = nx.spring_layout(G)  # compute graph layout\n",
    "plt.figure(figsize=(4, 4))  # image is 8 x 8 inches \n",
    "nx.draw_networkx_nodes(G, pos, node_size = 600, cmap = plt.cm.RdYlBu, node_color = communities)\n",
    "nx.draw_networkx_edges(G, pos, alpha = 0.3)\n",
    "plt.show(G)"
   ],
   "id": "3c84f3bbe6651aac",
   "outputs": [
    {
     "data": {
      "text/plain": [
       "<Figure size 400x400 with 1 Axes>"
      ],
      "image/png": "[encoded data removed]"
     },
     "metadata": {},
     "output_type": "display_data"
    }
   ],
   "execution_count": 32
  },
  {
   "metadata": {
    "ExecuteTime": {
     "end_time": "2024-05-17T06:39:17.551169Z",
     "start_time": "2024-05-17T06:39:17.525181Z"
    }
   },
   "cell_type": "code",
   "source": [
    "def calculate_modularity(G, node_community):\n",
    "    from collections import defaultdict\n",
    "    communities = defaultdict(list)\n",
    "    for node, community in node_community.items():\n",
    "        communities[community].append(node)\n",
    "    community_list = [set(nodes) for nodes in communities.values()]\n",
    "    mod = modularity(G, community_list)\n",
    "    return mod, len(community_list), node_community\n",
    "\n",
    "mod, num_communities, node_community = calculate_modularity(G, node_community)"
   ],
   "id": "8b784b1f0267bd6c",
   "outputs": [
    {
     "ename": "TypeError",
     "evalue": "list indices must be integers or slices, not str",
     "output_type": "error",
     "traceback": [
      "\u001B[1;31m---------------------------------------------------------------------------\u001B[0m",
      "\u001B[1;31mTypeError\u001B[0m                                 Traceback (most recent call last)",
      "Cell \u001B[1;32mIn[33], line 10\u001B[0m\n\u001B[0;32m      7\u001B[0m     mod \u001B[38;5;241m=\u001B[39m modularity(G, community_list)\n\u001B[0;32m      8\u001B[0m     \u001B[38;5;28;01mreturn\u001B[39;00m mod, \u001B[38;5;28mlen\u001B[39m(community_list), node_community\n\u001B[1;32m---> 10\u001B[0m mod, num_communities, node_community \u001B[38;5;241m=\u001B[39m \u001B[43mcalculate_modularity\u001B[49m\u001B[43m(\u001B[49m\u001B[43mG\u001B[49m\u001B[43m,\u001B[49m\u001B[43m \u001B[49m\u001B[43mnode_community\u001B[49m\u001B[43m)\u001B[49m\n",
      "Cell \u001B[1;32mIn[33], line 7\u001B[0m, in \u001B[0;36mcalculate_modularity\u001B[1;34m(G, node_community)\u001B[0m\n\u001B[0;32m      5\u001B[0m     communities[community]\u001B[38;5;241m.\u001B[39mappend(node)\n\u001B[0;32m      6\u001B[0m community_list \u001B[38;5;241m=\u001B[39m [\u001B[38;5;28mset\u001B[39m(nodes) \u001B[38;5;28;01mfor\u001B[39;00m nodes \u001B[38;5;129;01min\u001B[39;00m communities\u001B[38;5;241m.\u001B[39mvalues()]\n\u001B[1;32m----> 7\u001B[0m mod \u001B[38;5;241m=\u001B[39m \u001B[43mmodularity\u001B[49m\u001B[43m(\u001B[49m\u001B[43mG\u001B[49m\u001B[43m,\u001B[49m\u001B[43m \u001B[49m\u001B[43mcommunity_list\u001B[49m\u001B[43m)\u001B[49m\n\u001B[0;32m      8\u001B[0m \u001B[38;5;28;01mreturn\u001B[39;00m mod, \u001B[38;5;28mlen\u001B[39m(community_list), node_community\n",
      "Cell \u001B[1;32mIn[8], line 5\u001B[0m, in \u001B[0;36mmodularity\u001B[1;34m(communities, param)\u001B[0m\n\u001B[0;32m      4\u001B[0m \u001B[38;5;28;01mdef\u001B[39;00m \u001B[38;5;21mmodularity\u001B[39m(communities, param):\n\u001B[1;32m----> 5\u001B[0m     noNodes \u001B[38;5;241m=\u001B[39m \u001B[43mparam\u001B[49m\u001B[43m[\u001B[49m\u001B[38;5;124;43m'\u001B[39;49m\u001B[38;5;124;43mnoNodes\u001B[39;49m\u001B[38;5;124;43m'\u001B[39;49m\u001B[43m]\u001B[49m\n\u001B[0;32m      6\u001B[0m     mat \u001B[38;5;241m=\u001B[39m param[\u001B[38;5;124m'\u001B[39m\u001B[38;5;124mmat\u001B[39m\u001B[38;5;124m'\u001B[39m]\n\u001B[0;32m      7\u001B[0m     degrees \u001B[38;5;241m=\u001B[39m param[\u001B[38;5;124m'\u001B[39m\u001B[38;5;124mdegrees\u001B[39m\u001B[38;5;124m'\u001B[39m]\n",
      "\u001B[1;31mTypeError\u001B[0m: list indices must be integers or slices, not str"
     ]
    }
   ],
   "execution_count": 33
  },
  {
   "metadata": {},
   "cell_type": "code",
   "outputs": [],
   "execution_count": null,
   "source": "",
   "id": "cb2c3167e06f4011"
  }
 ],
 "metadata": {
  "kernelspec": {
   "display_name": "Python 3",
   "language": "python",
   "name": "python3"
  },
  "language_info": {
   "codemirror_mode": {
    "name": "ipython",
    "version": 2
   },
   "file_extension": ".py",
   "mimetype": "text/x-python",
   "name": "python",
   "nbconvert_exporter": "python",
   "pygments_lexer": "ipython2",
   "version": "2.7.6"
  }
 },
 "nbformat": 4,
 "nbformat_minor": 5
}
