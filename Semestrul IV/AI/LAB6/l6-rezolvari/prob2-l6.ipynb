{
 "cells": [
  {
   "cell_type": "code",
   "id": "initial_id",
   "metadata": {
    "ExecuteTime": {
     "end_time": "2024-04-15T06:00:33.912405Z",
     "start_time": "2024-04-15T06:00:30.830295Z"
    }
   },
   "source": [
    "import pandas as pd\n",
    "from sklearn.datasets import load_breast_cancer\n",
    "import numpy as np\n",
    "import warnings\n",
    "\n",
    "warnings.simplefilter('ignore')\n",
    "from ucimlrepo import fetch_ucirepo\n",
    "from sklearn.model_selection import train_test_split\n",
    "from sklearn.preprocessing import StandardScaler\n",
    "from sklearn.linear_model import LogisticRegression\n",
    "from sklearn.metrics import accuracy_score\n",
    "\n",
    "# Clasificarea țesuturilor cancerigene Se consideră informații despre cancerul de sân la femei, informații extrase din ecografii mamare (detalii aici) precum: - Tipul malformației identificate (țesut benign sau țesut malign) - Caracteristici numerice ale nucleului celulelor din aceste țesuturi: - raza (media distanțelor între centru si punctele de pe contur) - textura (măsurată prin deviația standard a nivelelor de gri din imaginea asociată țesutului analizat) Folosindu-se aceste date, să se decidă dacă țesutul dintr-o nouă ecografie (pentru care se cunosc cele 2 caracteristici numerice – raza și textura –) va fi etichetat ca fiind malign sau benign.\n",
    "# Specificaţi, proiectaţi, implementaţi si testati cate un algoritm de clasificare pentru problema 2 si problema 3 bazat pe regresie logistica. Antrenati cate un clasificator pentru fiecare problema, pe care apoi sa ii utilizati pentru a stabili\n",
    "# daca o leziune (dintr-o mamografie) caracterizata printr-o textura de valoare 10 si o raza de valoare 18 este leziune maligna sau benigna\n",
    "\n",
    "\n",
    "data = load_breast_cancer()\n",
    "\n",
    "# Access the features (X) and target (y)\n",
    "allData = data.data  # Features\n",
    "y = data.target  # Target (0  malign, 1 benign)\n",
    "\n",
    "scaler = StandardScaler()\n",
    "\n",
    "#Dataframe pandas by etichete\n",
    "labels_to_analyze = ['mean radius', 'mean texture', 'target']\n",
    "df = pd.DataFrame(data=allData, columns=data.feature_names)\n",
    "df['target'] = y\n",
    "\n",
    "#Select feature\n",
    "XRad = df['mean radius'].values\n",
    "XText = df['mean texture'].values\n",
    "XRad = XRad.reshape(-1, 1) #resize for scaler\n",
    "XRad = scaler.fit_transform(XRad)\n",
    "XText = XText.reshape(-1, 1) #resize for scaler\n",
    "XText = scaler.fit_transform(XText)\n",
    "X = np.concatenate((XRad, XText), axis=1) #matrix\n",
    "y = df['target'].values\n",
    "\n",
    "X_train, X_test, y_train, y_test = train_test_split(X, y, test_size=0.8, random_state=42)\n",
    "\n",
    "#normalizare prin scalare\n",
    "X_train = scaler.fit_transform(X_train)\n",
    "X_test = scaler.transform(X_test)\n",
    "\n",
    "# train the model\n",
    "model = LogisticRegression()\n",
    "model.fit(X_train, y_train)\n",
    "w0, w1 = model.intercept_, model.coef_[0]\n",
    "print('the learnt model: f(x) = ', w0[0], ' + ', w1[0], ' * x1 + ', w1[1], ' * x2')\n",
    "\n",
    "# prediction\n",
    "computedTestPredictions = model.predict(X_test)\n",
    "accuracy = accuracy_score(y_test, computedTestPredictions)\n",
    "print(\"Accuracy:\", accuracy)\n",
    "\n",
    "# normalizare date intrare si realizare predictie\n",
    "normalized_inputs = scaler.transform([[18, 10]]).reshape(1, -1)\n",
    "prediction = model.predict(np.array(normalized_inputs))\n",
    "\n",
    "if prediction[0] == 0:\n",
    "    print(\"leziune benigna\")\n",
    "else:\n",
    "    print(\"leziune maligna\")\n",
    "\n"
   ],
   "outputs": [
    {
     "name": "stdout",
     "output_type": "stream",
     "text": [
      "the learnt model: f(x) =  0.3374579963824349  +  -2.399789193624351  * x1 +  -0.7166143093330701  * x2\n",
      "Accuracy: 0.9057017543859649\n",
      "leziune benigna\n"
     ]
    }
   ],
   "execution_count": 9
  },
  {
   "metadata": {},
   "cell_type": "code",
   "outputs": [],
   "execution_count": null,
   "source": "",
   "id": "cbb2f26b6faa117a"
  }
 ],
 "metadata": {
  "kernelspec": {
   "display_name": "Python 3 (ipykernel)",
   "language": "python",
   "name": "python3"
  },
  "language_info": {
   "codemirror_mode": {
    "name": "ipython",
    "version": 3
   },
   "file_extension": ".py",
   "mimetype": "text/x-python",
   "name": "python",
   "nbconvert_exporter": "python",
   "pygments_lexer": "ipython3",
   "version": "3.12.0"
  }
 },
 "nbformat": 4,
 "nbformat_minor": 5
}
