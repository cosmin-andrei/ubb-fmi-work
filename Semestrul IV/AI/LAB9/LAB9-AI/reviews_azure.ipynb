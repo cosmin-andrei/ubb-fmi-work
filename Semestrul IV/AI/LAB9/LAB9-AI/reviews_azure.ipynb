{
 "cells": [
  {
   "metadata": {
    "ExecuteTime": {
     "end_time": "2024-05-10T08:26:46.887514Z",
     "start_time": "2024-05-10T08:26:42.040257Z"
    }
   },
   "cell_type": "code",
   "source": "pip install azure-ai-textanalytics",
   "id": "935abb874179d120",
   "outputs": [
    {
     "name": "stdout",
     "output_type": "stream",
     "text": [
      "Collecting azure-ai-textanalytics\n",
      "  Obtaining dependency information for azure-ai-textanalytics from https://files.pythonhosted.org/packages/fa/29/58c3ec979ba9b6ce14db7f8bc96792d8c240e490704864bda39f06110964/azure_ai_textanalytics-5.3.0-py3-none-any.whl.metadata\n",
      "  Downloading azure_ai_textanalytics-5.3.0-py3-none-any.whl.metadata (82 kB)\n",
      "     ---------------------------------------- 0.0/82.8 kB ? eta -:--:--\n",
      "     ---- ----------------------------------- 10.2/82.8 kB ? eta -:--:--\n",
      "     -------------- ----------------------- 30.7/82.8 kB 262.6 kB/s eta 0:00:01\n",
      "     ---------------------------- --------- 61.4/82.8 kB 409.6 kB/s eta 0:00:01\n",
      "     ---------------------------- --------- 61.4/82.8 kB 409.6 kB/s eta 0:00:01\n",
      "     -------------------------------------- 82.8/82.8 kB 387.8 kB/s eta 0:00:00\n",
      "Collecting azure-core<2.0.0,>=1.24.0 (from azure-ai-textanalytics)\n",
      "  Obtaining dependency information for azure-core<2.0.0,>=1.24.0 from https://files.pythonhosted.org/packages/d7/70/180df3b43ebc7a1ec957d9e5c2c76e6c54398ec61a67dff88d3e0131be80/azure_core-1.30.1-py3-none-any.whl.metadata\n",
      "  Using cached azure_core-1.30.1-py3-none-any.whl.metadata (37 kB)\n",
      "Collecting azure-common~=1.1 (from azure-ai-textanalytics)\n",
      "  Obtaining dependency information for azure-common~=1.1 from https://files.pythonhosted.org/packages/62/55/7f118b9c1b23ec15ca05d15a578d8207aa1706bc6f7c87218efffbbf875d/azure_common-1.1.28-py2.py3-none-any.whl.metadata\n",
      "  Using cached azure_common-1.1.28-py2.py3-none-any.whl.metadata (5.0 kB)\n",
      "Collecting isodate<1.0.0,>=0.6.1 (from azure-ai-textanalytics)\n",
      "  Obtaining dependency information for isodate<1.0.0,>=0.6.1 from https://files.pythonhosted.org/packages/b6/85/7882d311924cbcfc70b1890780763e36ff0b140c7e51c110fc59a532f087/isodate-0.6.1-py2.py3-none-any.whl.metadata\n",
      "  Using cached isodate-0.6.1-py2.py3-none-any.whl.metadata (9.6 kB)\n",
      "Collecting typing-extensions>=4.0.1 (from azure-ai-textanalytics)\n",
      "  Obtaining dependency information for typing-extensions>=4.0.1 from https://files.pythonhosted.org/packages/01/f3/936e209267d6ef7510322191003885de524fc48d1b43269810cd589ceaf5/typing_extensions-4.11.0-py3-none-any.whl.metadata\n",
      "  Using cached typing_extensions-4.11.0-py3-none-any.whl.metadata (3.0 kB)\n",
      "Requirement already satisfied: requests>=2.21.0 in d:\\facultate\\ubb-fmi-work\\semestrul iv\\ai\\lab9\\lab9-ai\\.venv\\lib\\site-packages (from azure-core<2.0.0,>=1.24.0->azure-ai-textanalytics) (2.31.0)\n",
      "Requirement already satisfied: six>=1.11.0 in d:\\facultate\\ubb-fmi-work\\semestrul iv\\ai\\lab9\\lab9-ai\\.venv\\lib\\site-packages (from azure-core<2.0.0,>=1.24.0->azure-ai-textanalytics) (1.16.0)\n",
      "Requirement already satisfied: charset-normalizer<4,>=2 in d:\\facultate\\ubb-fmi-work\\semestrul iv\\ai\\lab9\\lab9-ai\\.venv\\lib\\site-packages (from requests>=2.21.0->azure-core<2.0.0,>=1.24.0->azure-ai-textanalytics) (3.3.2)\n",
      "Requirement already satisfied: idna<4,>=2.5 in d:\\facultate\\ubb-fmi-work\\semestrul iv\\ai\\lab9\\lab9-ai\\.venv\\lib\\site-packages (from requests>=2.21.0->azure-core<2.0.0,>=1.24.0->azure-ai-textanalytics) (3.7)\n",
      "Requirement already satisfied: urllib3<3,>=1.21.1 in d:\\facultate\\ubb-fmi-work\\semestrul iv\\ai\\lab9\\lab9-ai\\.venv\\lib\\site-packages (from requests>=2.21.0->azure-core<2.0.0,>=1.24.0->azure-ai-textanalytics) (2.2.1)\n",
      "Requirement already satisfied: certifi>=2017.4.17 in d:\\facultate\\ubb-fmi-work\\semestrul iv\\ai\\lab9\\lab9-ai\\.venv\\lib\\site-packages (from requests>=2.21.0->azure-core<2.0.0,>=1.24.0->azure-ai-textanalytics) (2024.2.2)\n",
      "Downloading azure_ai_textanalytics-5.3.0-py3-none-any.whl (298 kB)\n",
      "   ---------------------------------------- 0.0/298.6 kB ? eta -:--:--\n",
      "   ------------ --------------------------- 92.2/298.6 kB 5.1 MB/s eta 0:00:01\n",
      "   -------------------- ------------------- 153.6/298.6 kB 2.3 MB/s eta 0:00:01\n",
      "   ---------------------------------------  297.0/298.6 kB 2.3 MB/s eta 0:00:01\n",
      "   ---------------------------------------- 298.6/298.6 kB 2.0 MB/s eta 0:00:00\n",
      "Using cached azure_common-1.1.28-py2.py3-none-any.whl (14 kB)\n",
      "Using cached azure_core-1.30.1-py3-none-any.whl (193 kB)\n",
      "Using cached isodate-0.6.1-py2.py3-none-any.whl (41 kB)\n",
      "Using cached typing_extensions-4.11.0-py3-none-any.whl (34 kB)\n",
      "Installing collected packages: azure-common, typing-extensions, isodate, azure-core, azure-ai-textanalytics\n",
      "Successfully installed azure-ai-textanalytics-5.3.0 azure-common-1.1.28 azure-core-1.30.1 isodate-0.6.1 typing-extensions-4.11.0\n",
      "Note: you may need to restart the kernel to use updated packages.\n"
     ]
    },
    {
     "name": "stderr",
     "output_type": "stream",
     "text": [
      "\n",
      "[notice] A new release of pip is available: 23.2.1 -> 24.0\n",
      "[notice] To update, run: python.exe -m pip install --upgrade pip\n"
     ]
    }
   ],
   "execution_count": 1
  },
  {
   "metadata": {},
   "cell_type": "markdown",
   "source": "Connecting client AZURE",
   "id": "47def36a5e8de60e"
  },
  {
   "metadata": {
    "ExecuteTime": {
     "end_time": "2024-05-10T08:39:41.821063Z",
     "start_time": "2024-05-10T08:39:41.590779Z"
    }
   },
   "cell_type": "code",
   "source": [
    "import os\n",
    "from azure.core.credentials import AzureKeyCredential\n",
    "from azure.ai.textanalytics import TextAnalyticsClient\n",
    "\n",
    "os.environ[\"AZURE_TEXT_ANALYTICS_ENDPOINT\"] = \"https://cosmin-andrei-ai.cognitiveservices.azure.com/\"\n",
    "os.environ[\"AZURE_TEXT_ANALYTICS_KEY\"] = \"4534a1eeaf564f36926149e01f1474fe\"\n",
    "\n",
    "\n",
    "endpoint = os.environ[\"AZURE_TEXT_ANALYTICS_ENDPOINT\"]\n",
    "key = os.environ[\"AZURE_TEXT_ANALYTICS_KEY\"]\n",
    "\n",
    "client = TextAnalyticsClient(endpoint=endpoint, credential=AzureKeyCredential(key))"
   ],
   "id": "b6196c8d60e7ae4e",
   "outputs": [],
   "execution_count": 8
  },
  {
   "metadata": {},
   "cell_type": "markdown",
   "source": "",
   "id": "2348a5f00ea0900d"
  },
  {
   "metadata": {},
   "cell_type": "code",
   "outputs": [],
   "execution_count": null,
   "source": "",
   "id": "e7da27ca90ae50d2"
  }
 ],
 "metadata": {
  "kernelspec": {
   "display_name": "Python 3",
   "language": "python",
   "name": "python3"
  },
  "language_info": {
   "codemirror_mode": {
    "name": "ipython",
    "version": 2
   },
   "file_extension": ".py",
   "mimetype": "text/x-python",
   "name": "python",
   "nbconvert_exporter": "python",
   "pygments_lexer": "ipython2",
   "version": "2.7.6"
  }
 },
 "nbformat": 4,
 "nbformat_minor": 5
}
