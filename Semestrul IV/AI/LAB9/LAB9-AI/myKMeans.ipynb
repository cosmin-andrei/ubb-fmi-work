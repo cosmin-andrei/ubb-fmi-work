{
 "cells": [
  {
   "cell_type": "code",
   "id": "initial_id",
   "metadata": {
    "collapsed": true,
    "ExecuteTime": {
     "end_time": "2024-05-09T20:27:59.175993Z",
     "start_time": "2024-05-09T20:27:59.085471Z"
    }
   },
   "source": [
    "import numpy as np\n",
    "\n",
    "\n",
    "class myKMeans:\n",
    "\n",
    "    def __init__(self, n_clusters=8, max_iter=300):\n",
    "        self.n_clusters = n_clusters\n",
    "        self.max_iter = max_iter\n",
    "\n",
    "    def fit(self, X):\n",
    "\n",
    "        # Pasul 1: Inițializăm centroizii aleatori\n",
    "        self.centroids = X[np.random.choice(X.shape[0], self.n_clusters, replace=False)]\n",
    "\n",
    "        for _ in range(self.max_iter):\n",
    "            # Pasul 2: Atribuim fiecare punct celui mai apropiat centroid\n",
    "            labels = self._assign_labels(X)\n",
    "\n",
    "            # Pasul 3: Recalculăm centroizii\n",
    "            new_centroids = self._calculate_centroids(X, labels)\n",
    "\n",
    "            # Verificăm dacă algoritmul converge\n",
    "            if np.allclose(new_centroids, self.centroids):\n",
    "                break\n",
    "\n",
    "            self.centroids = new_centroids\n",
    "\n",
    "    def predict(self, X):\n",
    "        labels = self._assign_labels(X)\n",
    "        return labels\n",
    "\n",
    "    def _assign_labels(self, X):\n",
    "        labels = np.argmin(np.linalg.norm(X[:, np.newaxis] - self.centroids, axis=2), axis=1)\n",
    "        return labels\n",
    "\n",
    "    def _calculate_centroids(self, X, labels):\n",
    "        centroids = np.array([X[labels == i].mean(axis=0) for i in range(self.n_clusters)])\n",
    "        return centroids"
   ],
   "outputs": [],
   "execution_count": 1
  },
  {
   "metadata": {},
   "cell_type": "code",
   "outputs": [],
   "execution_count": null,
   "source": "",
   "id": "ccbaa22da92d678e"
  }
 ],
 "metadata": {
  "kernelspec": {
   "display_name": "Python 3",
   "language": "python",
   "name": "python3"
  },
  "language_info": {
   "codemirror_mode": {
    "name": "ipython",
    "version": 2
   },
   "file_extension": ".py",
   "mimetype": "text/x-python",
   "name": "python",
   "nbconvert_exporter": "python",
   "pygments_lexer": "ipython2",
   "version": "2.7.6"
  }
 },
 "nbformat": 4,
 "nbformat_minor": 5
}
