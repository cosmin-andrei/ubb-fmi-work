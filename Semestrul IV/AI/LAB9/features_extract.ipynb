{
 "cells": [
  {
   "metadata": {},
   "cell_type": "markdown",
   "source": "Textul dat",
   "id": "6e8b0babc8e25c58"
  },
  {
   "metadata": {
    "ExecuteTime": {
     "end_time": "2024-05-13T09:05:51.099939Z",
     "start_time": "2024-05-13T09:05:51.094561Z"
    }
   },
   "cell_type": "code",
   "source": "txt = \"I love AI! I love AI! I love AI! I love AI! This is an example sentence with common words that should be removed.\"",
   "id": "initial_id",
   "outputs": [],
   "execution_count": 13
  },
  {
   "metadata": {
    "ExecuteTime": {
     "end_time": "2024-05-13T08:17:01.957976Z",
     "start_time": "2024-05-13T08:16:59.566113Z"
    }
   },
   "cell_type": "code",
   "source": "pip install nltk",
   "id": "f0cf18d5c3f6b9d9",
   "outputs": [
    {
     "name": "stdout",
     "output_type": "stream",
     "text": [
      "Requirement already satisfied: nltk in d:\\facultate\\ubb-fmi-work\\semestrul iv\\ai\\lab9\\lab9-ai\\.venv\\lib\\site-packages (3.8.1)\n",
      "Requirement already satisfied: click in d:\\facultate\\ubb-fmi-work\\semestrul iv\\ai\\lab9\\lab9-ai\\.venv\\lib\\site-packages (from nltk) (8.1.7)\n",
      "Requirement already satisfied: joblib in d:\\facultate\\ubb-fmi-work\\semestrul iv\\ai\\lab9\\lab9-ai\\.venv\\lib\\site-packages (from nltk) (1.4.2)\n",
      "Requirement already satisfied: regex>=2021.8.3 in d:\\facultate\\ubb-fmi-work\\semestrul iv\\ai\\lab9\\lab9-ai\\.venv\\lib\\site-packages (from nltk) (2024.4.28)\n",
      "Requirement already satisfied: tqdm in d:\\facultate\\ubb-fmi-work\\semestrul iv\\ai\\lab9\\lab9-ai\\.venv\\lib\\site-packages (from nltk) (4.66.4)\n",
      "Requirement already satisfied: colorama in d:\\facultate\\ubb-fmi-work\\semestrul iv\\ai\\lab9\\lab9-ai\\.venv\\lib\\site-packages (from click->nltk) (0.4.6)\n",
      "Note: you may need to restart the kernel to use updated packages.\n"
     ]
    },
    {
     "name": "stderr",
     "output_type": "stream",
     "text": [
      "\n",
      "[notice] A new release of pip is available: 23.2.1 -> 24.0\n",
      "[notice] To update, run: python.exe -m pip install --upgrade pip\n"
     ]
    }
   ],
   "execution_count": 1
  },
  {
   "metadata": {
    "ExecuteTime": {
     "end_time": "2024-05-13T09:05:45.708008Z",
     "start_time": "2024-05-13T09:05:44.258779Z"
    }
   },
   "cell_type": "code",
   "source": [
    "import nltk \n",
    "\n",
    "nltk.download('stopwords')\n",
    "nltk.download('wordnet')"
   ],
   "id": "acad1b7738ae2ab2",
   "outputs": [
    {
     "name": "stderr",
     "output_type": "stream",
     "text": [
      "[nltk_data] Downloading package stopwords to\n",
      "[nltk_data]     C:\\Users\\Cosmin\\AppData\\Roaming\\nltk_data...\n",
      "[nltk_data]   Package stopwords is already up-to-date!\n",
      "[nltk_data] Downloading package wordnet to\n",
      "[nltk_data]     C:\\Users\\Cosmin\\AppData\\Roaming\\nltk_data...\n"
     ]
    },
    {
     "data": {
      "text/plain": [
       "True"
      ]
     },
     "execution_count": 11,
     "metadata": {},
     "output_type": "execute_result"
    }
   ],
   "execution_count": 11
  },
  {
   "metadata": {
    "ExecuteTime": {
     "end_time": "2024-05-13T09:05:48.971395Z",
     "start_time": "2024-05-13T09:05:48.965830Z"
    }
   },
   "cell_type": "code",
   "source": [
    "import nltk\n",
    "\n",
    "def tokenize(text):\n",
    "    text = text.lower()\n",
    "    return nltk.word_tokenize(text)"
   ],
   "id": "1d4c544ac17f71ea",
   "outputs": [],
   "execution_count": 12
  },
  {
   "metadata": {},
   "cell_type": "markdown",
   "source": "Eliminare stopwords (and, or, etc.)",
   "id": "368fab8c4d8a1591"
  },
  {
   "metadata": {
    "ExecuteTime": {
     "end_time": "2024-05-13T09:05:55.616634Z",
     "start_time": "2024-05-13T09:05:54.251625Z"
    }
   },
   "cell_type": "code",
   "source": [
    "from nltk import WordNetLemmatizer, PorterStemmer\n",
    "from nltk.corpus import stopwords\n",
    "\n",
    "def elim_stopwords(text):\n",
    "    words = tokenize(text)\n",
    "    stop_words = stopwords.words('english')\n",
    "    filter_words = [word for word in words if word.lower() not in stop_words]\n",
    "    return ' '.join(filter_words)\n",
    "\n",
    "\n",
    "# Elimina sufixele, reduce la radacini\n",
    "def stem_words(text):\n",
    "    stemmer = PorterStemmer()\n",
    "    words = tokenize(text)\n",
    "    stemmed_words = [stemmer.stem(word) for word in words]\n",
    "    return ' '.join(stemmed_words)\n",
    "\n",
    "# aproape ca stem, doar ca se bazeaza pe reducerea cuvintelor la forma lor de baza prin cunostinte ligvistice\n",
    "def lemmatize_words(text):\n",
    "    lemmatizer = WordNetLemmatizer()\n",
    "    words = tokenize(text)\n",
    "    lemmatized_words = [lemmatizer.lemmatize(word) for word in words]\n",
    "    return ' '.join(lemmatized_words)\n",
    "\n",
    "\n",
    "print(elim_stopwords(txt))\n",
    "print(stem_words(txt))\n",
    "print(lemmatize_words(txt))"
   ],
   "id": "7b58f10756cc497a",
   "outputs": [
    {
     "name": "stdout",
     "output_type": "stream",
     "text": [
      "love ai ! love ai ! love ai ! love ai ! example sentence common words removed .\n",
      "i love ai ! i love ai ! i love ai ! i love ai ! thi is an exampl sentenc with common word that should be remov .\n",
      "i love ai ! i love ai ! i love ai ! i love ai ! this is an example sentence with common word that should be removed .\n"
     ]
    }
   ],
   "execution_count": 14
  },
  {
   "metadata": {
    "ExecuteTime": {
     "end_time": "2024-05-10T09:16:21.961044Z",
     "start_time": "2024-05-10T09:16:21.961044Z"
    }
   },
   "cell_type": "code",
   "source": "",
   "id": "6bee3d6c61ec7ecd",
   "outputs": [],
   "execution_count": null
  }
 ],
 "metadata": {
  "kernelspec": {
   "display_name": "Python 3",
   "language": "python",
   "name": "python3"
  },
  "language_info": {
   "codemirror_mode": {
    "name": "ipython",
    "version": 2
   },
   "file_extension": ".py",
   "mimetype": "text/x-python",
   "name": "python",
   "nbconvert_exporter": "python",
   "pygments_lexer": "ipython2",
   "version": "2.7.6"
  }
 },
 "nbformat": 4,
 "nbformat_minor": 5
}
